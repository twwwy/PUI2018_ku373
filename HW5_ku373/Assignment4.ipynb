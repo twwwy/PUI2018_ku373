{
 "cells": [
  {
   "cell_type": "markdown",
   "metadata": {
    "collapsed": true,
    "run_control": {
     "frozen": false,
     "read_only": false
    }
   },
   "source": [
    "# Skeleton of Assignment 4:\n",
    "    test if the distribution of \n",
    "    \n",
    "    1) trip duration of bikers that ride during the day vs night\n",
    "    \n",
    "    2) age of bikers for trips originating in Manhattan and in Brooklyn (extra credit)\n",
    "    \n",
    "    are different. Use 3 tests: KS, Pearson's, Spearman's. \n",
    "    \n",
    "    Use the scipy.stats functions scipy.stats.ks_2samp, scipy.stats.pearsonr, scipy.stats.spearmanr. \n",
    "    \n",
    "    For the KS do the test with the entire dataset and with a subset 200 times smaller\n",
    "    \n",
    "    Choose a single significant threshold for the whole exercise. \n",
    "    \n",
    "    For each test phrase the Null Hypothesis in words.\n",
    "    \n",
    "    Describe the return of the scipy function you use in each case.\n",
    "    \n",
    "    State the result in terms of rejection of the Null."
   ]
  },
  {
   "cell_type": "code",
   "execution_count": 1,
   "metadata": {
    "ExecuteTime": {
     "end_time": "2017-10-05T16:48:06.390950",
     "start_time": "2017-10-05T16:48:04.815178"
    },
    "run_control": {
     "frozen": false,
     "read_only": false
    },
    "scrolled": true
   },
   "outputs": [
    {
     "name": "stdout",
     "output_type": "stream",
     "text": [
      "Populating the interactive namespace from numpy and matplotlib\n"
     ]
    },
    {
     "name": "stderr",
     "output_type": "stream",
     "text": [
      "/usr/local/Anaconda3-5.0.0-Linux-x86_64/envs/PUI2016_Python2/lib/python2.7/site-packages/IPython/core/magics/pylab.py:161: UserWarning: pylab import has clobbered these variables: ['random']\n",
      "`%matplotlib` prevents importing * from pylab and numpy\n",
      "  \"\\n`%matplotlib` prevents importing * from pylab and numpy\"\n"
     ]
    }
   ],
   "source": [
    "# my usual imports and setups\n",
    "import pylab as pl\n",
    "import pandas as pd\n",
    "import numpy as np\n",
    "import scipy.stats\n",
    "import random\n",
    "import datetime as dt\n",
    "\n",
    "#imports downloader\n",
    "def getCitiBikeCSV(datestring):\n",
    "    print (\"Downloading\", datestring)\n",
    "    ### First I will heck that it is not already there\n",
    "    if not os.path.isfile(os.getenv(\"PUIDATA\") + \"/\" + datestring + \"-citibike-tripdata.csv\"):\n",
    "        if os.path.isfile(datestring + \"-citibike-tripdata.csv\"):\n",
    "            # if in the current dir just move it\n",
    "            if os.system(\"mv \" + datestring + \"-citibike-tripdata.csv \" + os.getenv(\"PUIDATA\")):\n",
    "                print (\"Error moving file!, Please check!\")\n",
    "        #otherwise start looking for the zip file\n",
    "        else:\n",
    "            if not os.path.isfile(os.getenv(\"PUIDATA\") + \"/\" + datestring + \"-citibike-tripdata.zip\"):\n",
    "                if not os.path.isfile(datestring + \"-citibike-tripdata.zip\"):\n",
    "                    os.system(\"curl -O https://s3.amazonaws.com/tripdata/\" + datestring + \"-citibike-tripdata.zip\")\n",
    "                ###  To move it I use the os.system() functions to run bash commands with arguments\n",
    "                os.system(\"mv \" + datestring + \"-citibike-tripdata.zip \" + os.getenv(\"PUIDATA\"))\n",
    "            ### unzip the csv \n",
    "            os.system(\"unzip \" + os.getenv(\"PUIDATA\") + \"/\" + datestring + \"-citibike-tripdata.zip\")\n",
    "            ## NOTE: old csv citibike data had a different name structure. \n",
    "            if '2014' in datestring:\n",
    "                os.system(\"mv \" + datestring[:4] + '-' +  datestring[4:] + \n",
    "                          \"\\ -\\ Citi\\ Bike\\ trip\\ data.csv \" + datestring + \"-citibike-tripdata.csv\")\n",
    "            os.system(\"mv \" + datestring + \"-citibike-tripdata.csv \" + os.getenv(\"PUIDATA\"))\n",
    "    ### One final check:\n",
    "    if not os.path.isfile(os.getenv(\"PUIDATA\") + \"/\" + datestring + \"-citibike-tripdata.csv\"):\n",
    "        print (\"WARNING!!! something is wrong: the file is not there!\")\n",
    "\n",
    "    else:\n",
    "        print (\"file in place, you can continue\")\n",
    "\n",
    "%pylab inline\n",
    "\n",
    "import os\n",
    "#this makes my plots pretty! but it is totally not mandatory to do it\n",
    "import json\n",
    "# s = json.load( open(os.getenv ('PUI2016')+\"/fbb_matplotlibrc.json\") )\n",
    "# pl.rcParams.update(s)\n",
    "\n"
   ]
  },
  {
   "cell_type": "code",
   "execution_count": 2,
   "metadata": {},
   "outputs": [
    {
     "name": "stdout",
     "output_type": "stream",
     "text": [
      "('Downloading', '201501')\n",
      "file in place, you can continue\n"
     ]
    }
   ],
   "source": [
    "datestring = '201501'\n",
    "getCitiBikeCSV(datestring)\n",
    "\n",
    "df1 = pd.read_csv(os.getenv(\"PUIDATA\") + \"/\" + datestring + '-citibike-tripdata.csv')\n",
    "# df is the dataframe where the content of the csv file is stored\n",
    "df1['date'] = pd.to_datetime(df1['starttime'])\n"
   ]
  },
  {
   "cell_type": "code",
   "execution_count": 3,
   "metadata": {},
   "outputs": [
    {
     "name": "stdout",
     "output_type": "stream",
     "text": [
      "('Downloading', '201507')\n",
      "file in place, you can continue\n"
     ]
    }
   ],
   "source": [
    "datestring = '201507'\n",
    "getCitiBikeCSV(datestring)\n",
    "\n",
    "df2 = pd.read_csv(os.getenv(\"PUIDATA\") + \"/\" + datestring + '-citibike-tripdata.csv')\n",
    "df2['date'] = pd.to_datetime(df2['starttime'])"
   ]
  },
  {
   "cell_type": "code",
   "execution_count": 4,
   "metadata": {},
   "outputs": [
    {
     "data": {
      "text/plain": [
       "(285552, 16)"
      ]
     },
     "execution_count": 4,
     "metadata": {},
     "output_type": "execute_result"
    }
   ],
   "source": [
    "df1.shape"
   ]
  },
  {
   "cell_type": "code",
   "execution_count": 5,
   "metadata": {},
   "outputs": [
    {
     "data": {
      "text/plain": [
       "(1085676, 16)"
      ]
     },
     "execution_count": 5,
     "metadata": {},
     "output_type": "execute_result"
    }
   ],
   "source": [
    "df2.shape"
   ]
  },
  {
   "cell_type": "code",
   "execution_count": 6,
   "metadata": {},
   "outputs": [
    {
     "data": {
      "text/html": [
       "<div>\n",
       "<table border=\"1\" class=\"dataframe\">\n",
       "  <thead>\n",
       "    <tr style=\"text-align: right;\">\n",
       "      <th></th>\n",
       "      <th>index</th>\n",
       "      <th>tripduration</th>\n",
       "      <th>starttime</th>\n",
       "      <th>stoptime</th>\n",
       "      <th>start station id</th>\n",
       "      <th>start station name</th>\n",
       "      <th>start station latitude</th>\n",
       "      <th>start station longitude</th>\n",
       "      <th>end station id</th>\n",
       "      <th>end station name</th>\n",
       "      <th>end station latitude</th>\n",
       "      <th>end station longitude</th>\n",
       "      <th>bikeid</th>\n",
       "      <th>usertype</th>\n",
       "      <th>birth year</th>\n",
       "      <th>gender</th>\n",
       "      <th>date</th>\n",
       "    </tr>\n",
       "  </thead>\n",
       "  <tbody>\n",
       "    <tr>\n",
       "      <th>0</th>\n",
       "      <td>0</td>\n",
       "      <td>1346</td>\n",
       "      <td>1/1/2015 0:01</td>\n",
       "      <td>1/1/2015 0:24</td>\n",
       "      <td>455</td>\n",
       "      <td>1 Ave &amp; E 44 St</td>\n",
       "      <td>40.750020</td>\n",
       "      <td>-73.969053</td>\n",
       "      <td>265</td>\n",
       "      <td>Stanton St &amp; Chrystie St</td>\n",
       "      <td>40.722293</td>\n",
       "      <td>-73.991475</td>\n",
       "      <td>18660</td>\n",
       "      <td>Subscriber</td>\n",
       "      <td>1960.0</td>\n",
       "      <td>2</td>\n",
       "      <td>2015-01-01 00:01:00</td>\n",
       "    </tr>\n",
       "    <tr>\n",
       "      <th>1</th>\n",
       "      <td>1</td>\n",
       "      <td>363</td>\n",
       "      <td>1/1/2015 0:02</td>\n",
       "      <td>1/1/2015 0:08</td>\n",
       "      <td>434</td>\n",
       "      <td>9 Ave &amp; W 18 St</td>\n",
       "      <td>40.743174</td>\n",
       "      <td>-74.003664</td>\n",
       "      <td>482</td>\n",
       "      <td>W 15 St &amp; 7 Ave</td>\n",
       "      <td>40.739355</td>\n",
       "      <td>-73.999318</td>\n",
       "      <td>16085</td>\n",
       "      <td>Subscriber</td>\n",
       "      <td>1963.0</td>\n",
       "      <td>1</td>\n",
       "      <td>2015-01-01 00:02:00</td>\n",
       "    </tr>\n",
       "    <tr>\n",
       "      <th>2</th>\n",
       "      <td>2</td>\n",
       "      <td>346</td>\n",
       "      <td>1/1/2015 0:04</td>\n",
       "      <td>1/1/2015 0:10</td>\n",
       "      <td>491</td>\n",
       "      <td>E 24 St &amp; Park Ave S</td>\n",
       "      <td>40.740964</td>\n",
       "      <td>-73.986022</td>\n",
       "      <td>505</td>\n",
       "      <td>6 Ave &amp; W 33 St</td>\n",
       "      <td>40.749013</td>\n",
       "      <td>-73.988484</td>\n",
       "      <td>20845</td>\n",
       "      <td>Subscriber</td>\n",
       "      <td>1974.0</td>\n",
       "      <td>1</td>\n",
       "      <td>2015-01-01 00:04:00</td>\n",
       "    </tr>\n",
       "    <tr>\n",
       "      <th>3</th>\n",
       "      <td>3</td>\n",
       "      <td>182</td>\n",
       "      <td>1/1/2015 0:04</td>\n",
       "      <td>1/1/2015 0:07</td>\n",
       "      <td>384</td>\n",
       "      <td>Fulton St &amp; Waverly Ave</td>\n",
       "      <td>40.683178</td>\n",
       "      <td>-73.965964</td>\n",
       "      <td>399</td>\n",
       "      <td>Lafayette Ave &amp; St James Pl</td>\n",
       "      <td>40.688515</td>\n",
       "      <td>-73.964763</td>\n",
       "      <td>19610</td>\n",
       "      <td>Subscriber</td>\n",
       "      <td>1969.0</td>\n",
       "      <td>1</td>\n",
       "      <td>2015-01-01 00:04:00</td>\n",
       "    </tr>\n",
       "    <tr>\n",
       "      <th>4</th>\n",
       "      <td>4</td>\n",
       "      <td>969</td>\n",
       "      <td>1/1/2015 0:05</td>\n",
       "      <td>1/1/2015 0:21</td>\n",
       "      <td>474</td>\n",
       "      <td>5 Ave &amp; E 29 St</td>\n",
       "      <td>40.745168</td>\n",
       "      <td>-73.986831</td>\n",
       "      <td>432</td>\n",
       "      <td>E 7 St &amp; Avenue A</td>\n",
       "      <td>40.726218</td>\n",
       "      <td>-73.983799</td>\n",
       "      <td>20197</td>\n",
       "      <td>Subscriber</td>\n",
       "      <td>1977.0</td>\n",
       "      <td>1</td>\n",
       "      <td>2015-01-01 00:05:00</td>\n",
       "    </tr>\n",
       "  </tbody>\n",
       "</table>\n",
       "</div>"
      ],
      "text/plain": [
       "   index  tripduration      starttime       stoptime  start station id  \\\n",
       "0      0          1346  1/1/2015 0:01  1/1/2015 0:24               455   \n",
       "1      1           363  1/1/2015 0:02  1/1/2015 0:08               434   \n",
       "2      2           346  1/1/2015 0:04  1/1/2015 0:10               491   \n",
       "3      3           182  1/1/2015 0:04  1/1/2015 0:07               384   \n",
       "4      4           969  1/1/2015 0:05  1/1/2015 0:21               474   \n",
       "\n",
       "        start station name  start station latitude  start station longitude  \\\n",
       "0          1 Ave & E 44 St               40.750020               -73.969053   \n",
       "1          9 Ave & W 18 St               40.743174               -74.003664   \n",
       "2     E 24 St & Park Ave S               40.740964               -73.986022   \n",
       "3  Fulton St & Waverly Ave               40.683178               -73.965964   \n",
       "4          5 Ave & E 29 St               40.745168               -73.986831   \n",
       "\n",
       "   end station id             end station name  end station latitude  \\\n",
       "0             265     Stanton St & Chrystie St             40.722293   \n",
       "1             482              W 15 St & 7 Ave             40.739355   \n",
       "2             505              6 Ave & W 33 St             40.749013   \n",
       "3             399  Lafayette Ave & St James Pl             40.688515   \n",
       "4             432            E 7 St & Avenue A             40.726218   \n",
       "\n",
       "   end station longitude  bikeid    usertype  birth year  gender  \\\n",
       "0             -73.991475   18660  Subscriber      1960.0       2   \n",
       "1             -73.999318   16085  Subscriber      1963.0       1   \n",
       "2             -73.988484   20845  Subscriber      1974.0       1   \n",
       "3             -73.964763   19610  Subscriber      1969.0       1   \n",
       "4             -73.983799   20197  Subscriber      1977.0       1   \n",
       "\n",
       "                 date  \n",
       "0 2015-01-01 00:01:00  \n",
       "1 2015-01-01 00:02:00  \n",
       "2 2015-01-01 00:04:00  \n",
       "3 2015-01-01 00:04:00  \n",
       "4 2015-01-01 00:05:00  "
      ]
     },
     "execution_count": 6,
     "metadata": {},
     "output_type": "execute_result"
    }
   ],
   "source": [
    "df3 = pd.concat([df1,df2])\n",
    "df3=df3.reset_index()\n",
    "#df3=df3.drop(df['index'], axis=1, inplace=True)\n",
    "df3.head()"
   ]
  },
  {
   "cell_type": "code",
   "execution_count": 7,
   "metadata": {},
   "outputs": [
    {
     "data": {
      "text/plain": [
       "(1371228, 16)"
      ]
     },
     "execution_count": 7,
     "metadata": {},
     "output_type": "execute_result"
    }
   ],
   "source": [
    "df3= df3.drop('index', axis=1)\n",
    "df3.shape"
   ]
  },
  {
   "cell_type": "markdown",
   "metadata": {
    "run_control": {
     "frozen": false,
     "read_only": false
    }
   },
   "source": [
    "# Read in data\n",
    "I am reading in data from January 2015 with the function that I created getCitiBikeCSV. You are requested to use 2 months at least. It would be a good idea to use data from a colder and a warmer months, since there are more riders in the warm weather and ridership patterns may change with weather, temperature, etc. You should use data from multiple months, joining multiple datasets (thus addressing some systematic errors as well)"
   ]
  },
  {
   "cell_type": "code",
   "execution_count": 8,
   "metadata": {
    "run_control": {
     "frozen": false,
     "read_only": false
    }
   },
   "outputs": [
    {
     "data": {
      "text/plain": [
       "Index([u'tripduration', u'starttime', u'stoptime', u'start station id',\n",
       "       u'start station name', u'start station latitude',\n",
       "       u'start station longitude', u'end station id', u'end station name',\n",
       "       u'end station latitude', u'end station longitude', u'bikeid',\n",
       "       u'usertype', u'birth year', u'gender', u'date'],\n",
       "      dtype='object')"
      ]
     },
     "execution_count": 8,
     "metadata": {},
     "output_type": "execute_result"
    }
   ],
   "source": [
    "df3.columns"
   ]
  },
  {
   "cell_type": "markdown",
   "metadata": {
    "run_control": {
     "frozen": false,
     "read_only": false
    }
   },
   "source": [
    "# SPLIT BY CATEGORY\n",
    "\n",
    "as an example I am splitting data by gender and looking at age or riders:\n",
    "\n",
    "# **H0: there is no statistical difference in the ridership distribution of daytime(6-18) and nighttime(18-6) based on starttime**\n",
    "\n",
    "$$ \\alpha = 0.05 $$\n",
    "\n",
    "extracting the age happens in the cell below"
   ]
  },
  {
   "cell_type": "code",
   "execution_count": 9,
   "metadata": {
    "run_control": {
     "frozen": false,
     "read_only": false
    }
   },
   "outputs": [
    {
     "data": {
      "text/html": [
       "<div>\n",
       "<table border=\"1\" class=\"dataframe\">\n",
       "  <thead>\n",
       "    <tr style=\"text-align: right;\">\n",
       "      <th></th>\n",
       "      <th>tripduration</th>\n",
       "      <th>start station id</th>\n",
       "      <th>start station latitude</th>\n",
       "      <th>start station longitude</th>\n",
       "      <th>end station id</th>\n",
       "      <th>bikeid</th>\n",
       "      <th>date</th>\n",
       "    </tr>\n",
       "  </thead>\n",
       "  <tbody>\n",
       "    <tr>\n",
       "      <th>0</th>\n",
       "      <td>1346</td>\n",
       "      <td>455</td>\n",
       "      <td>40.75002</td>\n",
       "      <td>-73.969053</td>\n",
       "      <td>265</td>\n",
       "      <td>18660</td>\n",
       "      <td>2015-01-01 00:01:00</td>\n",
       "    </tr>\n",
       "  </tbody>\n",
       "</table>\n",
       "</div>"
      ],
      "text/plain": [
       "   tripduration  start station id  start station latitude  \\\n",
       "0          1346               455                40.75002   \n",
       "\n",
       "   start station longitude  end station id  bikeid                date  \n",
       "0               -73.969053             265   18660 2015-01-01 00:01:00  "
      ]
     },
     "execution_count": 9,
     "metadata": {},
     "output_type": "execute_result"
    }
   ],
   "source": [
    "#dropping some data I no longer need\n",
    "#... your code here...\n",
    "\n",
    "df3=df3.drop(['starttime','stoptime','birth year', 'gender', 'end station latitude', 'end station latitude', 'end station longitude',  'start station name', 'end station name', 'usertype'],axis=1)\n",
    "\n",
    "df3.head(1)"
   ]
  },
  {
   "cell_type": "code",
   "execution_count": 10,
   "metadata": {},
   "outputs": [
    {
     "name": "stdout",
     "output_type": "stream",
     "text": [
      "         tripduration  start station id  start station latitude  \\\n",
      "599              2991               499               40.769155   \n",
      "600               284               300               40.728145   \n",
      "601               587               318               40.753202   \n",
      "602               282               258               40.689407   \n",
      "603              1577               478               40.760301   \n",
      "604              1357               251               40.723180   \n",
      "605               170               476               40.743943   \n",
      "606              1365               394               40.725213   \n",
      "607               721               281               40.764397   \n",
      "608               575               401               40.720196   \n",
      "609               302               487               40.733143   \n",
      "610              2254               387               40.712733   \n",
      "611              1586                82               40.711174   \n",
      "612               413               151               40.721816   \n",
      "613              1225               312               40.722055   \n",
      "614               840               313               40.696102   \n",
      "615               515               441               40.756014   \n",
      "616               955               527               40.744023   \n",
      "617               616               174               40.738177   \n",
      "618              1514                72               40.767272   \n",
      "619               961               523               40.754666   \n",
      "620               748               160               40.748238   \n",
      "621               304               488               40.756458   \n",
      "622              1124               150               40.720874   \n",
      "623               407               497               40.737050   \n",
      "624              1941               525               40.755942   \n",
      "625              1904               525               40.755942   \n",
      "626              1798               353               40.685396   \n",
      "627               421               150               40.720874   \n",
      "628               621              2012               40.739445   \n",
      "...               ...               ...                     ...   \n",
      "1361181           247               463               40.742065   \n",
      "1361182          1303               496               40.737262   \n",
      "1361183           292               250               40.724561   \n",
      "1361184           279               412               40.715816   \n",
      "1361185           588               293               40.730287   \n",
      "1361186           778               137               40.761628   \n",
      "1361187           412               405               40.739323   \n",
      "1361188           572               375               40.726795   \n",
      "1361189           409               496               40.737262   \n",
      "1361190          1637               528               40.742909   \n",
      "1361191          1448              2008               40.705693   \n",
      "1361192           488               520               40.759923   \n",
      "1361193           238               293               40.730287   \n",
      "1361194           428               529               40.757570   \n",
      "1361195           248               296               40.714131   \n",
      "1361196           659               504               40.732219   \n",
      "1361197           507               383               40.735238   \n",
      "1361198           990               496               40.737262   \n",
      "1361199           288               317               40.724537   \n",
      "1361200          2160               147               40.715422   \n",
      "1361201           631               347               40.728846   \n",
      "1361202          1314               327               40.715338   \n",
      "1361203           771               499               40.769155   \n",
      "1361204           410               529               40.757570   \n",
      "1361205           570               267               40.750977   \n",
      "1361206          1035               284               40.739017   \n",
      "1361207          1109               173               40.760647   \n",
      "1361208           149               523               40.754666   \n",
      "1361209           888               497               40.737050   \n",
      "1361210           294               329               40.720434   \n",
      "\n",
      "         start station longitude  end station id  bikeid                date  \n",
      "599                   -73.981918             499   17181 2015-01-01 07:02:00  \n",
      "600                   -73.990214             503   15694 2015-01-01 07:02:00  \n",
      "601                   -73.977987             449   17582 2015-01-01 07:03:00  \n",
      "602                   -73.968855             243   20930 2015-01-01 07:04:00  \n",
      "603                   -73.998842             147   17878 2015-01-01 07:05:00  \n",
      "604                   -73.994800             488   16894 2015-01-01 07:05:00  \n",
      "605                   -73.979661            2012   15620 2015-01-01 07:05:00  \n",
      "606                   -73.977688             441   15937 2015-01-01 07:06:00  \n",
      "607                   -73.973715             488   14775 2015-01-01 07:08:00  \n",
      "608                   -73.989978             358   15828 2015-01-01 07:11:00  \n",
      "609                   -73.975739             536   16105 2015-01-01 07:11:00  \n",
      "610                   -74.004607             512   15005 2015-01-01 07:13:00  \n",
      "611                   -74.000165            2006   16205 2015-01-01 07:15:00  \n",
      "612                   -73.997203             350   21173 2015-01-01 07:19:00  \n",
      "613                   -73.989111             318   20793 2015-01-01 07:21:00  \n",
      "614                   -73.967510             217   16610 2015-01-01 07:21:00  \n",
      "615                   -73.967416            2012   18950 2015-01-01 07:21:00  \n",
      "616                   -73.976056             531   16407 2015-01-01 07:23:00  \n",
      "617                   -73.977387             317   17837 2015-01-01 07:23:00  \n",
      "618                   -73.993929             423   18378 2015-01-01 07:24:00  \n",
      "619                   -73.991382             326   15481 2015-01-01 07:24:00  \n",
      "620                   -73.978311             488   17648 2015-01-01 07:26:00  \n",
      "621                   -73.993722             509   16298 2015-01-01 07:29:00  \n",
      "622                   -73.980858             512   15409 2015-01-01 07:30:00  \n",
      "623                   -73.990093            2012   16816 2015-01-01 07:31:00  \n",
      "624                   -74.002116            2006   16101 2015-01-01 07:32:00  \n",
      "625                   -74.002116            2006   18405 2015-01-01 07:32:00  \n",
      "626                   -73.974315             147   15289 2015-01-01 07:33:00  \n",
      "627                   -73.980858             293   19769 2015-01-01 07:33:00  \n",
      "628                   -73.976806             379   15620 2015-01-01 07:34:00  \n",
      "...                          ...             ...     ...                 ...  \n",
      "1361181               -74.004432             459   22362 2015-07-31 17:59:37  \n",
      "1361182               -73.992390             417   17824 2015-07-31 17:59:37  \n",
      "1361183               -73.995653             483   16870 2015-07-31 17:59:38  \n",
      "1361184               -73.994224             331   14899 2015-07-31 17:59:40  \n",
      "1361185               -73.990765             266   18594 2015-07-31 17:59:40  \n",
      "1361186               -73.972924             515   16387 2015-07-31 17:59:41  \n",
      "1361187               -74.008119             223   22959 2015-07-31 17:59:41  \n",
      "1361188               -73.996951             311   23493 2015-07-31 17:59:42  \n",
      "1361189               -73.992390             326   18270 2015-07-31 17:59:41  \n",
      "1361190               -73.977061             161   17283 2015-07-31 17:59:42  \n",
      "1361191               -74.016777            2008   15267 2015-07-31 17:59:41  \n",
      "1361192               -73.976485             529   17337 2015-07-31 17:59:41  \n",
      "1361193               -73.990765             439   18619 2015-07-31 17:59:43  \n",
      "1361194               -73.990985             458   22311 2015-07-31 17:59:43  \n",
      "1361195               -73.997047              82   18365 2015-07-31 17:59:43  \n",
      "1361196               -73.981656             454   17224 2015-07-31 17:59:44  \n",
      "1361197               -74.000271             474   22679 2015-07-31 17:59:43  \n",
      "1361198               -73.992390             515   21527 2015-07-31 17:59:45  \n",
      "1361199               -73.981854             311   19617 2015-07-31 17:59:45  \n",
      "1361200               -74.011220             284   22729 2015-07-31 17:59:48  \n",
      "1361201               -74.008591             531   14646 2015-07-31 17:59:49  \n",
      "1361202               -74.016584            2000   18497 2015-07-31 17:59:49  \n",
      "1361203               -73.981918             488   22192 2015-07-31 17:59:51  \n",
      "1361204               -73.990985             458   23263 2015-07-31 17:59:53  \n",
      "1361205               -73.987654             528   22762 2015-07-31 17:59:54  \n",
      "1361206               -74.002638             151   23863 2015-07-31 17:59:56  \n",
      "1361207               -73.984427             127   19466 2015-07-31 17:59:56  \n",
      "1361208               -73.991382            2021   15701 2015-07-31 17:59:56  \n",
      "1361209               -73.990093             336   16196 2015-07-31 17:59:59  \n",
      "1361210               -74.010206             327   16303 2015-07-31 17:59:59  \n",
      "\n",
      "[895427 rows x 7 columns]\n",
      "         tripduration  start station id  start station latitude  \\\n",
      "0                1346               455               40.750020   \n",
      "1                 363               434               40.743174   \n",
      "2                 346               491               40.740964   \n",
      "3                 182               384               40.683178   \n",
      "4                 969               474               40.745168   \n",
      "5                 496               512               40.750073   \n",
      "6                 152               498               40.748549   \n",
      "7                1183               405               40.739323   \n",
      "8                 846               450               40.762272   \n",
      "9                 576               160               40.748238   \n",
      "10                540               291               40.713126   \n",
      "11                419               517               40.751581   \n",
      "12                751               290               40.760203   \n",
      "13                332               361               40.716059   \n",
      "14               1099               317               40.724537   \n",
      "15                649               488               40.756458   \n",
      "16                614               285               40.734546   \n",
      "17               1196               466               40.743954   \n",
      "18               1426               360               40.707179   \n",
      "19               1262               485               40.750380   \n",
      "20                707               449               40.764618   \n",
      "21                307               474               40.745168   \n",
      "22               1053               164               40.753231   \n",
      "23                446               522               40.757148   \n",
      "24               1251               217               40.702772   \n",
      "25                797               513               40.768254   \n",
      "26                503               243               40.688226   \n",
      "27               1639               382               40.734927   \n",
      "28               1175               217               40.702772   \n",
      "29                470               243               40.688226   \n",
      "...               ...               ...                     ...   \n",
      "1371198           243               521               40.750967   \n",
      "1371199          1378               357               40.732618   \n",
      "1371200           230               499               40.769155   \n",
      "1371201          1669               499               40.769155   \n",
      "1371202           493               368               40.730386   \n",
      "1371203           822               361               40.716059   \n",
      "1371204           617               347               40.728846   \n",
      "1371205           349               146               40.716250   \n",
      "1371206           818               459               40.746745   \n",
      "1371207          2062               479               40.760193   \n",
      "1371208           945               490               40.751551   \n",
      "1371209           346               291               40.713126   \n",
      "1371210           399               507               40.739126   \n",
      "1371211           641               237               40.730473   \n",
      "1371212          1872               490               40.751551   \n",
      "1371213         12065              3180               40.698780   \n",
      "1371214           265               252               40.732264   \n",
      "1371215           936               428               40.724677   \n",
      "1371216           395               312               40.722055   \n",
      "1371217           238               509               40.745497   \n",
      "1371218           551               505               40.749013   \n",
      "1371219           423               239               40.691966   \n",
      "1371220          1623               534               40.702551   \n",
      "1371221          1632               534               40.702551   \n",
      "1371222           305               489               40.750664   \n",
      "1371223           275               383               40.735238   \n",
      "1371224           530               455               40.750020   \n",
      "1371225           273               383               40.735238   \n",
      "1371226          1273               477               40.756405   \n",
      "1371227          1667              2021               40.759291   \n",
      "\n",
      "         start station longitude  end station id  bikeid                date  \n",
      "0                     -73.969053             265   18660 2015-01-01 00:01:00  \n",
      "1                     -74.003664             482   16085 2015-01-01 00:02:00  \n",
      "2                     -73.986022             505   20845 2015-01-01 00:04:00  \n",
      "3                     -73.965964             399   19610 2015-01-01 00:04:00  \n",
      "4                     -73.986831             432   20197 2015-01-01 00:05:00  \n",
      "5                     -73.998393             383   20788 2015-01-01 00:07:00  \n",
      "6                     -73.988084             474   19006 2015-01-01 00:07:00  \n",
      "7                     -74.008119             174   17640 2015-01-01 00:08:00  \n",
      "8                     -73.987882             488   15691 2015-01-01 00:09:00  \n",
      "9                     -73.978311             174   17837 2015-01-01 00:10:00  \n",
      "10                    -73.984844             151   16947 2015-01-01 00:10:00  \n",
      "11                    -73.977910             540   14807 2015-01-01 00:11:00  \n",
      "12                    -73.964785             507   16702 2015-01-01 00:13:00  \n",
      "13                    -73.991908             438   17342 2015-01-01 00:13:00  \n",
      "14                    -73.981854            2012   19909 2015-01-01 00:14:00  \n",
      "15                    -73.993722             434   19584 2015-01-01 00:14:00  \n",
      "16                    -73.990741             312   19202 2015-01-01 00:14:00  \n",
      "17                    -73.991449             454   20683 2015-01-01 00:16:00  \n",
      "18                    -74.008873             391   21554 2015-01-01 00:17:00  \n",
      "19                    -73.983390             251   16894 2015-01-01 00:18:00  \n",
      "20                    -73.987895             509   14598 2015-01-01 00:18:00  \n",
      "21                    -73.986831             476   18834 2015-01-01 00:18:00  \n",
      "22                    -73.970325             523   15617 2015-01-01 00:19:00  \n",
      "23                    -73.972078             518   15812 2015-01-01 00:20:00  \n",
      "24                    -73.993836             313   19780 2015-01-01 00:21:00  \n",
      "25                    -73.988639             488   16761 2015-01-01 00:21:00  \n",
      "26                    -73.979382             270   14570 2015-01-01 00:21:00  \n",
      "27                    -73.992005             352   18320 2015-01-01 00:22:00  \n",
      "28                    -73.993836             313   16610 2015-01-01 00:22:00  \n",
      "29                    -73.979382             270   20804 2015-01-01 00:22:00  \n",
      "...                          ...             ...     ...                 ...  \n",
      "1371198               -73.994442             489   16323 2015-07-31 23:57:25  \n",
      "1371199               -73.991580             297   19732 2015-07-31 23:57:29  \n",
      "1371200               -73.981918             449   14946 2015-07-31 23:57:32  \n",
      "1371201               -73.981918             247   20211 2015-07-31 23:57:33  \n",
      "1371202               -74.002150             312   22305 2015-07-31 23:57:44  \n",
      "1371203               -73.991908             311   19560 2015-07-31 23:57:54  \n",
      "1371204               -74.008591             458   22250 2015-07-31 23:58:03  \n",
      "1371205               -74.009106             376   15692 2015-07-31 23:58:08  \n",
      "1371206               -74.007756             515   15460 2015-07-31 23:58:12  \n",
      "1371207               -73.991255             151   15671 2015-07-31 23:58:15  \n",
      "1371208               -73.993934             252   14890 2015-07-31 23:58:18  \n",
      "1371209               -73.984844             263   22843 2015-07-31 23:58:24  \n",
      "1371210               -73.979738             438   15472 2015-07-31 23:58:27  \n",
      "1371211               -73.986724             527   22051 2015-07-31 23:58:42  \n",
      "1371212               -73.993934             513   18214 2015-07-31 23:58:43  \n",
      "1371213               -73.997120            3180   16730 2015-07-31 23:58:51  \n",
      "1371214               -73.998522             435   15360 2015-07-31 23:58:53  \n",
      "1371215               -73.987834             346   14941 2015-07-31 23:58:58  \n",
      "1371216               -73.989111             307   16678 2015-07-31 23:59:04  \n",
      "1371217               -74.001971             489   17602 2015-07-31 23:59:10  \n",
      "1371218               -73.988484             463   17416 2015-07-31 23:59:24  \n",
      "1371219               -73.981302             419   18330 2015-07-31 23:59:23  \n",
      "1371220               -74.012723             312   24061 2015-07-31 23:59:24  \n",
      "1371221               -74.012723             312   22292 2015-07-31 23:59:24  \n",
      "1371222               -74.001768             521   22201 2015-07-31 23:59:38  \n",
      "1371223               -74.000271             404   22667 2015-07-31 23:59:40  \n",
      "1371224               -73.969053             507   20640 2015-07-31 23:59:41  \n",
      "1371225               -74.000271             404   22134 2015-07-31 23:59:42  \n",
      "1371226               -73.990026             432   22861 2015-07-31 23:59:56  \n",
      "1371227               -73.988597             401   16458 2015-07-31 23:59:59  \n",
      "\n",
      "[310000 rows x 7 columns]\n"
     ]
    }
   ],
   "source": [
    "# split\n",
    "ind = (df3['date'].dt.hour>6) & (df3['date'].dt.hour<18 )\n",
    "ind2=(df3['date'].dt.hour<6) |(df3['date'].dt.hour>18 )\n",
    "\n",
    "df3_daytime=df3.loc[ind]\n",
    "df3_nighttime=df3.loc[ind2]\n",
    "\n",
    "print(df3_daytime)\n",
    "print(df3_nighttime)"
   ]
  },
  {
   "cell_type": "markdown",
   "metadata": {
    "run_control": {
     "frozen": false,
     "read_only": false
    }
   },
   "source": [
    "lets split age in 10 year bins. the dataset is very large, so i could be split in smaller bins, but I will chose 10 years in the interest of time. \n",
    "the bin size choice should be a balance between properly sample the age space, have enough counts in each bin that the statistical noise is not significant (remember that is > sqrt(N)!) and the computational requirement to computatinal facilities ratio. "
   ]
  },
  {
   "cell_type": "markdown",
   "metadata": {
    "run_control": {
     "frozen": false,
     "read_only": false
    }
   },
   "source": [
    "the next several steps are needed if you want to code up the KS test from scratch. that is for extra credit, so if you do not want to do it you may not need to plot split the distribution in bins and create the cumulative HOWEVER it is a great idea to do it anyways to explore your data viaually! remember Ascombe's quartet!!"
   ]
  },
  {
   "cell_type": "code",
   "execution_count": 11,
   "metadata": {
    "ExecuteTime": {
     "end_time": "2017-10-05T16:55:21.602238",
     "start_time": "2017-10-05T16:55:20.487384"
    },
    "run_control": {
     "frozen": false,
     "read_only": false
    }
   },
   "outputs": [
    {
     "data": {
      "image/png": "[encoded data removed]",
      "text/plain": [
       "<matplotlib.figure.Figure at 0x7f1ece757c50>"
      ]
     },
     "metadata": {},
     "output_type": "display_data"
    },
    {
     "data": {
      "image/png": "[encoded data removed]",
      "text/plain": [
       "<matplotlib.figure.Figure at 0x7f1ece757e10>"
      ]
     },
     "metadata": {},
     "output_type": "display_data"
    }
   ],
   "source": [
    "# plotting histogramswith pandas is a bitdifferent than with pylab\n",
    "# this is a VERY USEFUL syntaxfor you to knonw!\n",
    "bins = np.arange(60, 3000, 100)\n",
    "axM = df3_daytime.tripduration.groupby(pd.cut(df3_daytime.tripduration, bins)).agg([count_nonzero]).plot(kind='bar', \n",
    "                                                                legend=False,figsize=(10, 3))\n",
    "axM.set_title(\"day time\")\n",
    "axF = df3_nighttime.tripduration.groupby(pd.cut(df3_nighttime.tripduration, bins)).agg([count_nonzero]).plot(kind='bar',\n",
    "                                                                legend=False,figsize=(10, 3))\n",
    "axF.set_title(\"night time\");\n"
   ]
  },
  {
   "cell_type": "markdown",
   "metadata": {
    "run_control": {
     "frozen": false,
     "read_only": false
    }
   },
   "source": [
    "**Figure 1: histogrammed distribution of riders' tripduration in daytime and nighttime **\n",
    "The histogram shows that tripduration in nighttime is quite similar with that in night."
   ]
  },
  {
   "cell_type": "markdown",
   "metadata": {
    "run_control": {
     "frozen": false,
     "read_only": false
    }
   },
   "source": [
    "this is how the cumulative distributions look like.  Notice that i am normalizing them! if i want to reat an observed distribution like a probablility distribution i have to normalize it"
   ]
  },
  {
   "cell_type": "code",
   "execution_count": 12,
   "metadata": {
    "run_control": {
     "frozen": false,
     "read_only": false
    },
    "scrolled": false
   },
   "outputs": [
    {
     "name": "stdout",
     "output_type": "stream",
     "text": [
      "              count_nonzero\n",
      "tripduration               \n",
      "(60, 160]          0.001962\n",
      "(160, 260]         0.003010\n",
      "(260, 360]         0.001029\n",
      "(360, 460]         0.007546\n",
      "(460, 560]         0.014025\n",
      "(560, 660]         0.018441\n",
      "(660, 760]         0.018919\n",
      "(760, 860]         0.018308\n",
      "(860, 960]         0.015567\n",
      "(960, 1060]        0.012883\n",
      "(1060, 1160]       0.009605\n",
      "(1160, 1260]       0.006493\n",
      "(1260, 1360]       0.004662\n",
      "(1360, 1460]       0.003356\n",
      "(1460, 1560]       0.002954\n",
      "(1560, 1660]       0.002453\n",
      "(1660, 1760]       0.001683\n",
      "(1760, 1860]       0.001850\n",
      "(1860, 1960]       0.001415\n",
      "(1960, 2060]       0.000873\n",
      "(2060, 2160]       0.000457\n",
      "(2160, 2260]       0.000159\n",
      "(2260, 2360]       0.000033\n",
      "(2360, 2460]       0.000129\n",
      "(2460, 2560]       0.000242\n",
      "(2560, 2660]       0.000243\n",
      "(2660, 2760]       0.000218\n",
      "(2760, 2860]       0.000158\n",
      "(2860, 2960]       0.000000\n"
     ]
    },
    {
     "data": {
      "text/plain": [
       "<matplotlib.legend.Legend at 0x7f1ec4faa590>"
      ]
     },
     "execution_count": 12,
     "metadata": {},
     "output_type": "execute_result"
    },
    {
     "data": {
      "image/png": "[encoded data removed]",
      "text/plain": [
       "<matplotlib.figure.Figure at 0x7f1ece6b0b90>"
      ]
     },
     "metadata": {},
     "output_type": "display_data"
    }
   ],
   "source": [
    "#print df.ageS, df.ageS.cumsum()\n",
    "\n",
    "csM=df3_daytime.tripduration.groupby(pd.cut(df3_daytime.tripduration, bins)).agg([count_nonzero]).cumsum()\n",
    "\n",
    "csF=df3_nighttime.tripduration.groupby(pd.cut(df3_nighttime.tripduration, bins)).agg([count_nonzero]).cumsum()\n",
    "\n",
    "print (np.abs(csM / csM.max()-csF / csF.max()))\n",
    "\n",
    "pl.plot(bins[:-1] + 5, csM / csM.max(), label = \"day\")\n",
    "pl.plot(bins[:-1] + 5, csF / csF.max(), label = \"night\")\n",
    "pl.plot(bins[:-1] + 5, np.sqrt(csF / csF.max() - csM / csM.max())**2, 'k-',\n",
    "        label = \"difference\")\n",
    "pl.xlabel(\"Tripduration\")\n",
    "pl.ylabel(\"Normalized Cumulative Number\")\n",
    "pl.legend()"
   ]
  },
  {
   "cell_type": "markdown",
   "metadata": {
    "run_control": {
     "frozen": false,
     "read_only": false
    }
   },
   "source": [
    "** Figure 2: the cumulative distribution of CitiBike riders' ages by gender** \n",
    "This histogram shows that daytime trip tends to be shorter than nighttime trip. That means we could see the significant difference when we test."
   ]
  },
  {
   "cell_type": "markdown",
   "metadata": {
    "run_control": {
     "frozen": false,
     "read_only": false
    }
   },
   "source": [
    "lets run the scipy KS test"
   ]
  },
  {
   "cell_type": "markdown",
   "metadata": {
    "collapsed": true,
    "run_control": {
     "frozen": false,
     "read_only": false
    }
   },
   "source": [
    "# KS tests to compare 2 samples\n",
    "\n",
    "http://docs.scipy.org/doc/scipy-0.15.1/reference/generated/scipy.stats.ks_2samp.html\n",
    "\n",
    "the KS test in scipy returns the p-value BUT make sure you understand what the NULL is! read the documentation carefully! what is the null hypothesis that you can/cannot reject?"
   ]
  },
  {
   "cell_type": "code",
   "execution_count": 13,
   "metadata": {
    "ExecuteTime": {
     "end_time": "2017-10-05T16:58:13.968035",
     "start_time": "2017-10-05T16:58:13.899033"
    },
    "run_control": {
     "frozen": false,
     "read_only": false
    }
   },
   "outputs": [
    {
     "name": "stdout",
     "output_type": "stream",
     "text": [
      "Ks_2sampResult(statistic=0.01572041888693009, pvalue=7.0134074267721558e-50)\n"
     ]
    }
   ],
   "source": [
    "ks = scipy.stats.ks_2samp(df3_daytime.tripduration, df3_nighttime.tripduration)\n",
    "print (ks)\n"
   ]
  },
  {
   "cell_type": "markdown",
   "metadata": {
    "ExecuteTime": {
     "end_time": "2017-10-05T16:58:24.751556",
     "start_time": "2017-10-05T16:58:24.747653"
    },
    "collapsed": true,
    "run_control": {
     "frozen": false,
     "read_only": false
    }
   },
   "source": [
    "## your words here!...\n",
    "\n",
    "## Answer\n",
    "### Kolmogorov-Smirnov test (2 samples) checks whether the two samples come from the same distribution. In terms of null hypothesis, we can reject a null hypothesis if the KS value is high and p-value is lower than significant level.\n",
    "### Here, we got p-value less than 0.05. Our significant level is p = 0.05. Therefore, we can reject the null hypothesis.\n",
    "\n"
   ]
  },
  {
   "cell_type": "markdown",
   "metadata": {},
   "source": [
    "## For extra credit\n",
    "I will try the same test with 200 size"
   ]
  },
  {
   "cell_type": "code",
   "execution_count": 14,
   "metadata": {},
   "outputs": [],
   "source": [
    "import random\n",
    "# I don't know why, but I have to set 'import ranodm' here to run the codes below.\n",
    "# If I set it in the begging of the file, it does not work.\n",
    "\n",
    "random.seed(0)\n",
    "Day200 = random.sample(df3_daytime.tripduration, 200)\n",
    "Night200 = random.sample(df3_nighttime.tripduration, 200)"
   ]
  },
  {
   "cell_type": "code",
   "execution_count": 15,
   "metadata": {},
   "outputs": [
    {
     "name": "stdout",
     "output_type": "stream",
     "text": [
      "Ks_2sampResult(statistic=0.08, pvalue=0.52718940708578943)\n"
     ]
    }
   ],
   "source": [
    "ks2 = scipy.stats.ks_2samp(Day200, Night200)\n",
    "print (ks2)"
   ]
  },
  {
   "cell_type": "markdown",
   "metadata": {},
   "source": [
    "### Now, I got different values. I can not reject the null hypothesis. This happens because the sample size 200 is too small to use KS test."
   ]
  },
  {
   "cell_type": "markdown",
   "metadata": {
    "run_control": {
     "frozen": false,
     "read_only": false
    }
   },
   "source": [
    "# Now retest using a test for correlation. \n",
    "\n",
    "That will answer a slightly different question though - formulate the NULL appropriately. The tests for correlations (generally) requires the variable to be paired, so that I can tell if x changes does y change similarly. But the datasets are of different size! You will need to reduce them to the same size. You can do that by subsampling of the data: take only 1 ride every of 200, which you can achieve \"slicing and broadcasting\" the array or using one of the python function (built in python numpy.random.choice() functions for example: Docstring:\n",
    "choice(a, size=None, replace=True, p=None)\n",
    "\n",
    "Generates a random sample from a given 1-D array\n",
    "\n",
    "        .. versionadded:: 1.7.0\n",
    "\n",
    "Parameters\n",
    "...\n",
    "\n",
    "But make sure you understand how to use it! there is an option \"replace\" which you should think about."
   ]
  },
  {
   "cell_type": "markdown",
   "metadata": {
    "run_control": {
     "frozen": false,
     "read_only": false
    }
   },
   "source": [
    "# Pearson's  test for correlation\n",
    "\n",
    "** notice that the Pearson's is a pairwise test: the samples need to be **\n",
    " a. the same size\n",
    " b. sorted! (how??)\n",
    "    \n",
    "http://docs.scipy.org/doc/scipy/reference/generated/scipy.stats.pearsonr.html#scipy.stats.pearsonr\n",
    "\n"
   ]
  },
  {
   "cell_type": "markdown",
   "metadata": {},
   "source": [
    "## I would say that there are several approaches to test correlation between night and day ridership. So, the answer should not be only one. Here, I create a dummy variable (daytime dummy) and test the correlation between dummy and tripduration. This surely answers the question although this approach does not need to set size and sort."
   ]
  },
  {
   "cell_type": "code",
   "execution_count": 16,
   "metadata": {},
   "outputs": [
    {
     "data": {
      "text/html": [
       "<div>\n",
       "<table border=\"1\" class=\"dataframe\">\n",
       "  <thead>\n",
       "    <tr style=\"text-align: right;\">\n",
       "      <th></th>\n",
       "      <th>tripduration</th>\n",
       "      <th>start station id</th>\n",
       "      <th>start station latitude</th>\n",
       "      <th>start station longitude</th>\n",
       "      <th>end station id</th>\n",
       "      <th>bikeid</th>\n",
       "      <th>date</th>\n",
       "      <th>dummy</th>\n",
       "    </tr>\n",
       "  </thead>\n",
       "  <tbody>\n",
       "    <tr>\n",
       "      <th>0</th>\n",
       "      <td>1346</td>\n",
       "      <td>455</td>\n",
       "      <td>40.75002</td>\n",
       "      <td>-73.969053</td>\n",
       "      <td>265</td>\n",
       "      <td>18660</td>\n",
       "      <td>2015-01-01 00:01:00</td>\n",
       "      <td>False</td>\n",
       "    </tr>\n",
       "  </tbody>\n",
       "</table>\n",
       "</div>"
      ],
      "text/plain": [
       "   tripduration  start station id  start station latitude  \\\n",
       "0          1346               455                40.75002   \n",
       "\n",
       "   start station longitude  end station id  bikeid                date  dummy  \n",
       "0               -73.969053             265   18660 2015-01-01 00:01:00  False  "
      ]
     },
     "execution_count": 16,
     "metadata": {},
     "output_type": "execute_result"
    }
   ],
   "source": [
    "df3['dummy'] = (df3['date'].dt.hour>6) & (df3['date'].dt.hour<18 )\n",
    "# ind2=(df3['date'].dt.hour<6) |(df3['date'].dt.hour>18 )\n",
    "\n",
    "df3.head(1)"
   ]
  },
  {
   "cell_type": "code",
   "execution_count": 17,
   "metadata": {
    "ExecuteTime": {
     "end_time": "2017-10-05T17:05:04.485128",
     "start_time": "2017-10-05T17:05:04.480928"
    },
    "run_control": {
     "frozen": false,
     "read_only": false
    }
   },
   "outputs": [
    {
     "data": {
      "text/plain": [
       "(-0.00082540806827781853, 0.3337702664111829)"
      ]
     },
     "execution_count": 17,
     "metadata": {},
     "output_type": "execute_result"
    }
   ],
   "source": [
    "# your code here!\n",
    "# wrangle the data as needed\n",
    "# please perform the Pearson's test \n",
    "# and tell me what you find in terms of NULL hypothesis\n",
    "\n",
    "scipy.stats.pearsonr(df3['dummy'], df3['tripduration'])\n"
   ]
  },
  {
   "cell_type": "markdown",
   "metadata": {},
   "source": [
    "## Answer\n",
    "### Null hypothesis \n",
    "H0 = There is no correlation in tripduraion between daytime and night time ridership.\n",
    "\n",
    "### Pearson's test checks correlation coefficient and the p-value for testing non-correlation. we can reject a null hypothesis if the p-value is lower than significant level. \n",
    "### Here, we got p-value 0.33. Our significant level is p = 0.05. Therefore, we cannot reject the null hypothesis.\n"
   ]
  },
  {
   "cell_type": "markdown",
   "metadata": {
    "run_control": {
     "frozen": false,
     "read_only": false
    }
   },
   "source": [
    "# Spearman's  test for correlation\n",
    "\n",
    "http://docs.scipy.org/doc/scipy/reference/generated/scipy.stats.spearmanr.html#scipy.stats.spearmanr"
   ]
  },
  {
   "cell_type": "code",
   "execution_count": 18,
   "metadata": {
    "ExecuteTime": {
     "end_time": "2017-10-05T17:05:09.530148",
     "start_time": "2017-10-05T17:05:09.525214"
    },
    "run_control": {
     "frozen": false,
     "read_only": false
    }
   },
   "outputs": [
    {
     "data": {
      "text/plain": [
       "SpearmanrResult(correlation=-0.00099045222650315321, pvalue=0.24612483335768856)"
      ]
     },
     "execution_count": 18,
     "metadata": {},
     "output_type": "execute_result"
    }
   ],
   "source": [
    "# your code here!\n",
    "# wrangle the data as needed\n",
    "# please perform the Spearman's test and tell me what you find in terms of NULL hypothesis\n",
    "\n",
    "scipy.stats.spearmanr(df3['dummy'], df3['tripduration'], axis=0)\n"
   ]
  },
  {
   "cell_type": "markdown",
   "metadata": {
    "run_control": {
     "frozen": false,
     "read_only": false
    }
   },
   "source": [
    "** please comment on the numbers that you get in the light of the scipy manual: what is rerutned? what does it mean??**"
   ]
  },
  {
   "cell_type": "markdown",
   "metadata": {
    "collapsed": true,
    "run_control": {
     "frozen": false,
     "read_only": false
    }
   },
   "source": [
    "### Answer\n",
    "### Spearman's test checks correlation coefficient and the p-value for testing non-correlation. we can reject a null hypothesis if the p-value is lower than significant level. \n",
    "### Here, we got p-value 0.24. Our significant level is p = 0.05. Therefore, we cannot reject the null hypothesis."
   ]
  },
  {
   "cell_type": "code",
   "execution_count": null,
   "metadata": {},
   "outputs": [],
   "source": []
  }
 ],
 "metadata": {
  "anaconda-cloud": {},
  "kernelspec": {
   "display_name": "PUI2016_Python2",
   "language": "python",
   "name": "pui2016_python2"
  },
  "language_info": {
   "codemirror_mode": {
    "name": "ipython",
    "version": 2
   },
   "file_extension": ".py",
   "mimetype": "text/x-python",
   "name": "python",
   "nbconvert_exporter": "python",
   "pygments_lexer": "ipython2",
   "version": "2.7.12"
  },
  "latex_envs": {
   "LaTeX_envs_menu_present": true,
   "bibliofile": "biblio.bib",
   "cite_by": "apalike",
   "current_citInitial": 1,
   "eqLabelWithNumbers": true,
   "eqNumInitial": 1,
   "hotkeys": {
    "equation": "Ctrl-E",
    "itemize": "Ctrl-I"
   },
   "labels_anchors": false,
   "latex_user_defs": false,
   "report_style_numbering": false,
   "user_envs_cfg": false
  },
  "toc": {
   "colors": {
    "hover_highlight": "#DAA520",
    "running_highlight": "#FF0000",
    "selected_highlight": "#FFD700"
   },
   "moveMenuLeft": true,
   "nav_menu": {
    "height": "135px",
    "width": "251px"
   },
   "navigate_menu": true,
   "number_sections": true,
   "sideBar": true,
   "threshold": 4,
   "toc_cell": false,
   "toc_section_display": "block",
   "toc_window_display": false
  }
 },
 "nbformat": 4,
 "nbformat_minor": 1
}
